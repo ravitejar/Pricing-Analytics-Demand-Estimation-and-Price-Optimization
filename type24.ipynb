{
 "cells": [
  {
   "cell_type": "code",
   "execution_count": 3,
   "metadata": {
    "collapsed": false
   },
   "outputs": [],
   "source": [
    "    import pandas as pd\n",
    "    import numpy as np\n",
    "    from pandas import DataFrame,Series\n",
    "    %matplotlib inline\n",
    "    import matplotlib.pyplot as plt\n",
    "    import statsmodels.api as sm\n",
    "    import statsmodels.formula.api as smf\n",
    "    import seaborn as sns\n",
    "    from sklearn.cross_validation import train_test_split\n",
    "    from sklearn.metrics import r2_score\n",
    "    from scipy.optimize import curve_fit"
   ]
  },
  {
   "cell_type": "code",
   "execution_count": 4,
   "metadata": {
    "collapsed": false
   },
   "outputs": [
    {
     "name": "stdout",
     "output_type": "stream",
     "text": [
      " Volume in drive C is Windows8_OS\n",
      " Volume Serial Number is 5CA2-A60B\n",
      "\n",
      " Directory of C:\\Users\\raviteja\\Desktop\\MSBAPM\\Pricing Analytics\\nikitha files\\ALL_DATA\\ALL_DATA\n",
      "\n",
      "05/05/2016  03:38 PM    <DIR>          .\n",
      "05/05/2016  03:38 PM    <DIR>          ..\n",
      "05/01/2016  04:36 PM    <DIR>          .ipynb_checkpoints\n",
      "05/01/2016  02:43 PM            22,473 23_new.xlsx\n",
      "05/01/2016  02:25 PM            34,937 23_new_o.xlsx\n",
      "04/21/2016  04:33 PM            56,411 export.xlsx\n",
      "05/05/2016  03:12 PM           455,758 scatter.html\n",
      "04/27/2016  07:27 PM            48,574 type_22_All.xlsx\n",
      "04/27/2016  08:39 PM            41,058 type_23_All.xlsx\n",
      "04/30/2016  10:46 AM            63,025 type_24_all.xlsx\n",
      "04/27/2016  08:40 PM            44,441 type_25_All.xlsx\n",
      "04/27/2016  08:41 PM            67,476 type_26_All.xlsx\n",
      "04/27/2016  08:42 PM            19,318 type_27_All.xlsx\n",
      "04/27/2016  08:43 PM            11,982 type_28_All.xlsx\n",
      "04/27/2016  08:44 PM            12,234 type_29_All.xlsx\n",
      "04/27/2016  08:46 PM            54,589 type_6_All.xlsx\n",
      "05/05/2016  03:37 PM            39,571 type22.ipynb\n",
      "05/05/2016  03:19 PM           259,032 type23.ipynb\n",
      "05/01/2016  05:04 PM            15,947 type24.ipynb\n",
      "05/01/2016  04:31 PM             3,756 type25.ipynb\n",
      "05/01/2016  04:32 PM            10,016 type27.ipynb\n",
      "05/01/2016  04:35 PM            10,447 type28.ipynb\n",
      "05/01/2016  04:38 PM             4,433 type29.ipynb\n",
      "04/21/2016  04:45 PM            37,583 type7.xlsx\n",
      "              21 File(s)      1,313,061 bytes\n",
      "               3 Dir(s)  395,641,286,656 bytes free\n"
     ]
    }
   ],
   "source": [
    "%ls"
   ]
  },
  {
   "cell_type": "code",
   "execution_count": 5,
   "metadata": {
    "collapsed": true
   },
   "outputs": [],
   "source": [
    "type24=pd.read_excel('type_24_All.xlsx')"
   ]
  },
  {
   "cell_type": "code",
   "execution_count": 6,
   "metadata": {
    "collapsed": false
   },
   "outputs": [
    {
     "data": {
      "text/plain": [
       "7.9900     1009\n",
       "11.9900       1\n",
       "14.8242       1\n",
       "10.3900       1\n",
       "17.5580       1\n",
       "13.9700       1\n",
       "13.9900       1\n",
       "15.9900       1\n",
       "15.9633       1\n",
       "19.9500       1\n",
       "11.9766       1\n",
       "10.9900       1\n",
       "12.7900       1\n",
       "9.9833        1\n",
       "19.9900       1\n",
       "10.9800       1\n",
       "12.7740       1\n",
       "16.9600       1\n",
       "10.3820       1\n",
       "Name: ADDIPRICE24, dtype: int64"
      ]
     },
     "execution_count": 6,
     "metadata": {},
     "output_type": "execute_result"
    }
   ],
   "source": [
    "type24.ADDIPRICE24.value_counts()"
   ]
  },
  {
   "cell_type": "code",
   "execution_count": 7,
   "metadata": {
    "collapsed": true
   },
   "outputs": [],
   "source": [
    "type24=type24[(type24['ADDIPRICE24']!=14.8242) & (type24['ADDIPRICE24']!=10.3900) & (type24['ADDIPRICE24']!=17.5580) & (type24['ADDIPRICE24']!=13.9700) \n",
    "& (type24['ADDIPRICE24']!=15.9633) & (type24['ADDIPRICE24']!=11.9766) & (type24['ADDIPRICE24']!=12.7900)& (type24['ADDIPRICE24']!=9.9833)& (type24['ADDIPRICE24']!=10.9800)\n",
    "             & (type24['ADDIPRICE24']!=12.7740)& (type24['ADDIPRICE24']!=16.9600)& (type24['ADDIPRICE24']!=10.3820)]"
   ]
  },
  {
   "cell_type": "code",
   "execution_count": 8,
   "metadata": {
    "collapsed": true
   },
   "outputs": [],
   "source": [
    "#X['AVGGASPRICE']=1/(X['AVGGASPRICE'])"
   ]
  },
  {
   "cell_type": "code",
   "execution_count": 9,
   "metadata": {
    "collapsed": false
   },
   "outputs": [],
   "source": [
    "X=type24.drop(['SITE','AVGGASPRICE',u'AVGADDIDEMAND'],axis=1)\n",
    "y=np.log(type24.AVGADDIDEMAND)\n",
    "#y=1/type23.AVGADDIDEMAND"
   ]
  },
  {
   "cell_type": "code",
   "execution_count": 10,
   "metadata": {
    "collapsed": false
   },
   "outputs": [],
   "source": [
    "X[u'AVGGASTRANS']=np.log(X[u'AVGGASTRANS'])"
   ]
  },
  {
   "cell_type": "code",
   "execution_count": 11,
   "metadata": {
    "collapsed": true
   },
   "outputs": [],
   "source": [
    "#X['ADDIPRICE23_2']=X['ADDIPRICE23']*X['ADDIPRICE23']"
   ]
  },
  {
   "cell_type": "code",
   "execution_count": 12,
   "metadata": {
    "collapsed": true
   },
   "outputs": [],
   "source": [
    "#X=np.log(X)"
   ]
  },
  {
   "cell_type": "code",
   "execution_count": 13,
   "metadata": {
    "collapsed": true
   },
   "outputs": [],
   "source": [
    "X=sm.add_constant(X)"
   ]
  },
  {
   "cell_type": "code",
   "execution_count": 14,
   "metadata": {
    "collapsed": false
   },
   "outputs": [
    {
     "data": {
      "text/html": [
       "<table class=\"simpletable\">\n",
       "<caption>OLS Regression Results</caption>\n",
       "<tr>\n",
       "  <th>Dep. Variable:</th>      <td>AVGADDIDEMAND</td>  <th>  R-squared:         </th> <td>   0.236</td>\n",
       "</tr>\n",
       "<tr>\n",
       "  <th>Model:</th>                   <td>OLS</td>       <th>  Adj. R-squared:    </th> <td>   0.234</td>\n",
       "</tr>\n",
       "<tr>\n",
       "  <th>Method:</th>             <td>Least Squares</td>  <th>  F-statistic:       </th> <td>   156.1</td>\n",
       "</tr>\n",
       "<tr>\n",
       "  <th>Date:</th>             <td>Thu, 05 May 2016</td> <th>  Prob (F-statistic):</th> <td>8.22e-60</td>\n",
       "</tr>\n",
       "<tr>\n",
       "  <th>Time:</th>                 <td>15:40:36</td>     <th>  Log-Likelihood:    </th> <td> -496.89</td>\n",
       "</tr>\n",
       "<tr>\n",
       "  <th>No. Observations:</th>      <td>  1015</td>      <th>  AIC:               </th> <td>   999.8</td>\n",
       "</tr>\n",
       "<tr>\n",
       "  <th>Df Residuals:</th>          <td>  1012</td>      <th>  BIC:               </th> <td>   1015.</td>\n",
       "</tr>\n",
       "<tr>\n",
       "  <th>Df Model:</th>              <td>     2</td>      <th>                     </th>     <td> </td>   \n",
       "</tr>\n",
       "<tr>\n",
       "  <th>Covariance Type:</th>      <td>nonrobust</td>    <th>                     </th>     <td> </td>   \n",
       "</tr>\n",
       "</table>\n",
       "<table class=\"simpletable\">\n",
       "<tr>\n",
       "       <td></td>          <th>coef</th>     <th>std err</th>      <th>t</th>      <th>P>|t|</th> <th>[95.0% Conf. Int.]</th> \n",
       "</tr>\n",
       "<tr>\n",
       "  <th>const</th>       <td>   -1.8641</td> <td>    0.217</td> <td>   -8.592</td> <td> 0.000</td> <td>   -2.290    -1.438</td>\n",
       "</tr>\n",
       "<tr>\n",
       "  <th>ADDIPRICE24</th> <td>   -0.0214</td> <td>    0.020</td> <td>   -1.096</td> <td> 0.273</td> <td>   -0.060     0.017</td>\n",
       "</tr>\n",
       "<tr>\n",
       "  <th>AVGGASTRANS</th> <td>    0.4466</td> <td>    0.025</td> <td>   17.661</td> <td> 0.000</td> <td>    0.397     0.496</td>\n",
       "</tr>\n",
       "</table>\n",
       "<table class=\"simpletable\">\n",
       "<tr>\n",
       "  <th>Omnibus:</th>       <td>335.189</td> <th>  Durbin-Watson:     </th> <td>   0.789</td> \n",
       "</tr>\n",
       "<tr>\n",
       "  <th>Prob(Omnibus):</th> <td> 0.000</td>  <th>  Jarque-Bera (JB):  </th> <td> 947.491</td> \n",
       "</tr>\n",
       "<tr>\n",
       "  <th>Skew:</th>          <td> 1.691</td>  <th>  Prob(JB):          </th> <td>1.80e-206</td>\n",
       "</tr>\n",
       "<tr>\n",
       "  <th>Kurtosis:</th>      <td> 6.311</td>  <th>  Cond. No.          </th> <td>    179.</td> \n",
       "</tr>\n",
       "</table>"
      ],
      "text/plain": [
       "<class 'statsmodels.iolib.summary.Summary'>\n",
       "\"\"\"\n",
       "                            OLS Regression Results                            \n",
       "==============================================================================\n",
       "Dep. Variable:          AVGADDIDEMAND   R-squared:                       0.236\n",
       "Model:                            OLS   Adj. R-squared:                  0.234\n",
       "Method:                 Least Squares   F-statistic:                     156.1\n",
       "Date:                Thu, 05 May 2016   Prob (F-statistic):           8.22e-60\n",
       "Time:                        15:40:36   Log-Likelihood:                -496.89\n",
       "No. Observations:                1015   AIC:                             999.8\n",
       "Df Residuals:                    1012   BIC:                             1015.\n",
       "Df Model:                           2                                         \n",
       "Covariance Type:            nonrobust                                         \n",
       "===============================================================================\n",
       "                  coef    std err          t      P>|t|      [95.0% Conf. Int.]\n",
       "-------------------------------------------------------------------------------\n",
       "const          -1.8641      0.217     -8.592      0.000        -2.290    -1.438\n",
       "ADDIPRICE24    -0.0214      0.020     -1.096      0.273        -0.060     0.017\n",
       "AVGGASTRANS     0.4466      0.025     17.661      0.000         0.397     0.496\n",
       "==============================================================================\n",
       "Omnibus:                      335.189   Durbin-Watson:                   0.789\n",
       "Prob(Omnibus):                  0.000   Jarque-Bera (JB):              947.491\n",
       "Skew:                           1.691   Prob(JB):                    1.80e-206\n",
       "Kurtosis:                       6.311   Cond. No.                         179.\n",
       "==============================================================================\n",
       "\n",
       "Warnings:\n",
       "[1] Standard Errors assume that the covariance matrix of the errors is correctly specified.\n",
       "\"\"\""
      ]
     },
     "execution_count": 14,
     "metadata": {},
     "output_type": "execute_result"
    }
   ],
   "source": [
    "sm.OLS(y,X).fit().summary()"
   ]
  },
  {
   "cell_type": "code",
   "execution_count": 64,
   "metadata": {
    "collapsed": false
   },
   "outputs": [],
   "source": [
    "\n",
    "x1=np.linspace(0.3,1,10)\n",
    "y1=x1.copy()\n",
    "#y1=-0.5330283*x1\n",
    "\n",
    "from bokeh.charts import output_file\n",
    "from bokeh.plotting import figure, output_notebook, show\n",
    "p = figure(plot_width=500, plot_height=500)\n",
    "p.ygrid[0].ticker.desired_num_ticks = 15\n",
    "p.xgrid[0].ticker.desired_num_ticks = 15\n",
    "p.scatter(y, sm.OLS(y,X).fit().predict(X), size=4, color=\"navy\", alpha=0.5)\n",
    "#p.scatter(sm.OLS(y,sm.OLS(y,X).fit().predict(X),y, size=4, color=\"navy\", alpha=0.5)\n",
    "p.line(x1, y1, color=\"red\", alpha=0.5)\n",
    "p.xaxis.axis_label = \"ACTUAL\"\n",
    "p.yaxis.axis_label = \"PREDICTED\"\n",
    "p.title=\"ACTUAL vs PREDICTED\"\n",
    "output_file(\"scatter.html\")\n",
    "show(p)\n",
    "#print popt[0],popt[1]"
   ]
  },
  {
   "cell_type": "code",
   "execution_count": 105,
   "metadata": {
    "collapsed": false
   },
   "outputs": [],
   "source": [
    "\n",
    "x1=np.linspace(-1,1,10)\n",
    "y1=0\n",
    "#y1=-0.5330283*x1\n",
    "\n",
    "from bokeh.charts import output_file\n",
    "from bokeh.plotting import figure, output_notebook, show\n",
    "p = figure(plot_width=500, plot_height=500)\n",
    "p.ygrid[0].ticker.desired_num_ticks = 15\n",
    "p.xgrid[0].ticker.desired_num_ticks = 15\n",
    "p.scatter(sm.OLS(y,X).fit().predict(X),np.power(sm.OLS(y,X).fit().predict(X)-y,2),size=4, color=\"navy\", alpha=0.5)\n",
    "p.line(x1, y1, color=\"red\", alpha=0.5)\n",
    "p.xaxis.axis_label = \"Predicted\"\n",
    "p.yaxis.axis_label = \"Resid\"\n",
    "p.title=\"ACTUAL vs PREDICTED\"\n",
    "output_file(\"scatter.html\")\n",
    "show(p)\n",
    "#print popt[0],popt[1]"
   ]
  },
  {
   "cell_type": "code",
   "execution_count": 23,
   "metadata": {
    "collapsed": true
   },
   "outputs": [],
   "source": [
    "from sklearn import ensemble"
   ]
  },
  {
   "cell_type": "code",
   "execution_count": 24,
   "metadata": {
    "collapsed": false
   },
   "outputs": [
    {
     "data": {
      "text/plain": [
       "GradientBoostingRegressor(alpha=0.9, init=None, learning_rate=0.01, loss='ls',\n",
       "             max_depth=4, max_features=None, max_leaf_nodes=None,\n",
       "             min_samples_leaf=1, min_samples_split=1,\n",
       "             min_weight_fraction_leaf=0.0, n_estimators=500,\n",
       "             presort='auto', random_state=None, subsample=1.0, verbose=0,\n",
       "             warm_start=False)"
      ]
     },
     "execution_count": 24,
     "metadata": {},
     "output_type": "execute_result"
    }
   ],
   "source": [
    "params = {'n_estimators': 500, 'max_depth': 4, 'min_samples_split': 1,\n",
    "          'learning_rate': 0.01, 'loss': 'ls'}\n",
    "clf = ensemble.GradientBoostingRegressor(**params)\n",
    "\n",
    "clf.fit(X, y)"
   ]
  },
  {
   "cell_type": "code",
   "execution_count": 25,
   "metadata": {
    "collapsed": true
   },
   "outputs": [],
   "source": [
    "\n",
    "x1=np.linspace(0,2,10)\n",
    "y1=x1.copy()\n",
    "#y1=-0.5330283*x1\n",
    "\n",
    "from bokeh.charts import output_file\n",
    "from bokeh.plotting import figure, output_notebook, show\n",
    "p = figure(plot_width=500, plot_height=500)\n",
    "p.ygrid[0].ticker.desired_num_ticks = 15\n",
    "p.xgrid[0].ticker.desired_num_ticks = 15\n",
    "p.scatter(y, clf.predict(X), size=4, color=\"navy\", alpha=0.5)\n",
    "p.line(x1, y1, color=\"red\", alpha=0.5)\n",
    "p.xaxis.axis_label = \"ACTUAL\"\n",
    "p.yaxis.axis_label = \"PREDICTED\"\n",
    "p.title=\"ACTUAL vs PREDICTED\"\n",
    "output_file(\"scatter.html\")\n",
    "show(p)\n",
    "#print popt[0],popt[1]"
   ]
  },
  {
   "cell_type": "code",
   "execution_count": 26,
   "metadata": {
    "collapsed": false
   },
   "outputs": [
    {
     "data": {
      "text/plain": [
       "0.81084777821661369"
      ]
     },
     "execution_count": 26,
     "metadata": {},
     "output_type": "execute_result"
    }
   ],
   "source": [
    "clf.score(X,y)"
   ]
  },
  {
   "cell_type": "code",
   "execution_count": null,
   "metadata": {
    "collapsed": true
   },
   "outputs": [],
   "source": []
  }
 ],
 "metadata": {
  "kernelspec": {
   "display_name": "Python 2",
   "language": "python",
   "name": "python2"
  },
  "language_info": {
   "codemirror_mode": {
    "name": "ipython",
    "version": 2
   },
   "file_extension": ".py",
   "mimetype": "text/x-python",
   "name": "python",
   "nbconvert_exporter": "python",
   "pygments_lexer": "ipython2",
   "version": "2.7.11"
  }
 },
 "nbformat": 4,
 "nbformat_minor": 0
}
