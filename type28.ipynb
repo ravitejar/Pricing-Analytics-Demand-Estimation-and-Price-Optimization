{
 "cells": [
  {
   "cell_type": "code",
   "execution_count": 1,
   "metadata": {
    "collapsed": true
   },
   "outputs": [],
   "source": [
    "    import pandas as pd\n",
    "    import numpy as np\n",
    "    from pandas import DataFrame,Series\n",
    "    %matplotlib inline\n",
    "    import matplotlib.pyplot as plt\n",
    "    import statsmodels.api as sm\n",
    "    import statsmodels.formula.api as smf\n",
    "    import seaborn as sns\n",
    "    from sklearn.cross_validation import train_test_split\n",
    "    from sklearn.metrics import r2_score\n",
    "    from scipy.optimize import curve_fit"
   ]
  },
  {
   "cell_type": "code",
   "execution_count": 2,
   "metadata": {
    "collapsed": false
   },
   "outputs": [
    {
     "name": "stdout",
     "output_type": "stream",
     "text": [
      " Volume in drive C is Windows8_OS\n",
      " Volume Serial Number is 5CA2-A60B\n",
      "\n",
      " Directory of C:\\Users\\raviteja\\Desktop\\MSBAPM\\Pricing Analytics\\nikitha files\\ALL_DATA\\ALL_DATA\n",
      "\n",
      "05/01/2016  04:33 PM    <DIR>          .\n",
      "05/01/2016  04:33 PM    <DIR>          ..\n",
      "05/01/2016  04:33 PM    <DIR>          .ipynb_checkpoints\n",
      "05/01/2016  02:43 PM            22,473 23_new.xlsx\n",
      "05/01/2016  02:25 PM            34,937 23_new_o.xlsx\n",
      "04/21/2016  04:33 PM            56,411 export.xlsx\n",
      "05/01/2016  04:05 PM           790,440 scatter.html\n",
      "04/27/2016  07:27 PM            48,574 type_22_All.xlsx\n",
      "04/27/2016  08:39 PM            41,058 type_23_All.xlsx\n",
      "04/30/2016  10:46 AM            63,025 type_24_all.xlsx\n",
      "04/27/2016  08:40 PM            44,441 type_25_All.xlsx\n",
      "04/27/2016  08:41 PM            67,476 type_26_All.xlsx\n",
      "04/27/2016  08:42 PM            19,318 type_27_All.xlsx\n",
      "04/27/2016  08:43 PM            11,982 type_28_All.xlsx\n",
      "04/27/2016  08:44 PM            12,234 type_29_All.xlsx\n",
      "04/27/2016  08:46 PM            54,589 type_6_All.xlsx\n",
      "05/01/2016  02:07 PM            40,763 type22.ipynb\n",
      "05/01/2016  04:05 PM           219,382 type23.ipynb\n",
      "05/01/2016  04:32 PM            15,087 type24.ipynb\n",
      "05/01/2016  04:31 PM             3,756 type25.ipynb\n",
      "05/01/2016  04:32 PM            10,016 type27.ipynb\n",
      "05/01/2016  04:33 PM                72 type28.ipynb\n",
      "04/21/2016  04:45 PM            37,583 type7.xlsx\n",
      "              20 File(s)      1,593,617 bytes\n",
      "               3 Dir(s)  399,823,134,720 bytes free\n"
     ]
    }
   ],
   "source": [
    "%ls"
   ]
  },
  {
   "cell_type": "code",
   "execution_count": 3,
   "metadata": {
    "collapsed": true
   },
   "outputs": [],
   "source": [
    "type28=pd.read_excel('type_28_All.xlsx')"
   ]
  },
  {
   "cell_type": "code",
   "execution_count": 4,
   "metadata": {
    "collapsed": false
   },
   "outputs": [
    {
     "data": {
      "text/plain": [
       "4.9900    189\n",
       "7.9900      1\n",
       "6.2757      1\n",
       "6.7900      1\n",
       "5.4185      1\n",
       "9.9900      1\n",
       "5.7400      1\n",
       "5.4900      1\n",
       "6.9900      1\n",
       "5.5900      1\n",
       "6.1900      1\n",
       "3.9900      1\n",
       "5.9900      1\n",
       "5.6566      1\n",
       "5.8471      1\n",
       "6.4900      1\n",
       "6.6566      1\n",
       "Name: ADDIPRICE28, dtype: int64"
      ]
     },
     "execution_count": 4,
     "metadata": {},
     "output_type": "execute_result"
    }
   ],
   "source": [
    "type28.ADDIPRICE28.value_counts()"
   ]
  },
  {
   "cell_type": "code",
   "execution_count": 5,
   "metadata": {
    "collapsed": true
   },
   "outputs": [],
   "source": [
    "X=type28.drop(['SITE','AVGGASPRICE',u'AVGADDIDEMAND'],axis=1)\n",
    "y=np.log(type28.AVGADDIDEMAND)\n",
    "#y=1/type23.AVGADDIDEMAND"
   ]
  },
  {
   "cell_type": "code",
   "execution_count": 6,
   "metadata": {
    "collapsed": true
   },
   "outputs": [],
   "source": [
    "X[u'AVGGASTRANS']=np.log(X[u'AVGGASTRANS'])"
   ]
  },
  {
   "cell_type": "code",
   "execution_count": 7,
   "metadata": {
    "collapsed": true
   },
   "outputs": [],
   "source": [
    "X=sm.add_constant(X)"
   ]
  },
  {
   "cell_type": "code",
   "execution_count": 8,
   "metadata": {
    "collapsed": false
   },
   "outputs": [
    {
     "data": {
      "text/html": [
       "<table class=\"simpletable\">\n",
       "<caption>OLS Regression Results</caption>\n",
       "<tr>\n",
       "  <th>Dep. Variable:</th>      <td>AVGADDIDEMAND</td>  <th>  R-squared:         </th> <td>   0.380</td>\n",
       "</tr>\n",
       "<tr>\n",
       "  <th>Model:</th>                   <td>OLS</td>       <th>  Adj. R-squared:    </th> <td>   0.374</td>\n",
       "</tr>\n",
       "<tr>\n",
       "  <th>Method:</th>             <td>Least Squares</td>  <th>  F-statistic:       </th> <td>   61.98</td>\n",
       "</tr>\n",
       "<tr>\n",
       "  <th>Date:</th>             <td>Sun, 01 May 2016</td> <th>  Prob (F-statistic):</th> <td>1.02e-21</td>\n",
       "</tr>\n",
       "<tr>\n",
       "  <th>Time:</th>                 <td>16:35:31</td>     <th>  Log-Likelihood:    </th> <td> -82.050</td>\n",
       "</tr>\n",
       "<tr>\n",
       "  <th>No. Observations:</th>      <td>   205</td>      <th>  AIC:               </th> <td>   170.1</td>\n",
       "</tr>\n",
       "<tr>\n",
       "  <th>Df Residuals:</th>          <td>   202</td>      <th>  BIC:               </th> <td>   180.1</td>\n",
       "</tr>\n",
       "<tr>\n",
       "  <th>Df Model:</th>              <td>     2</td>      <th>                     </th>     <td> </td>   \n",
       "</tr>\n",
       "<tr>\n",
       "  <th>Covariance Type:</th>      <td>nonrobust</td>    <th>                     </th>     <td> </td>   \n",
       "</tr>\n",
       "</table>\n",
       "<table class=\"simpletable\">\n",
       "<tr>\n",
       "       <td></td>          <th>coef</th>     <th>std err</th>      <th>t</th>      <th>P>|t|</th> <th>[95.0% Conf. Int.]</th> \n",
       "</tr>\n",
       "<tr>\n",
       "  <th>const</th>       <td>   -2.1060</td> <td>    0.343</td> <td>   -6.132</td> <td> 0.000</td> <td>   -2.783    -1.429</td>\n",
       "</tr>\n",
       "<tr>\n",
       "  <th>ADDIPRICE28</th> <td>   -0.0047</td> <td>    0.052</td> <td>   -0.092</td> <td> 0.927</td> <td>   -0.106     0.097</td>\n",
       "</tr>\n",
       "<tr>\n",
       "  <th>AVGGASTRANS</th> <td>    0.5063</td> <td>    0.046</td> <td>   10.945</td> <td> 0.000</td> <td>    0.415     0.597</td>\n",
       "</tr>\n",
       "</table>\n",
       "<table class=\"simpletable\">\n",
       "<tr>\n",
       "  <th>Omnibus:</th>       <td>43.849</td> <th>  Durbin-Watson:     </th> <td>   1.822</td>\n",
       "</tr>\n",
       "<tr>\n",
       "  <th>Prob(Omnibus):</th> <td> 0.000</td> <th>  Jarque-Bera (JB):  </th> <td> 170.710</td>\n",
       "</tr>\n",
       "<tr>\n",
       "  <th>Skew:</th>          <td>-0.769</td> <th>  Prob(JB):          </th> <td>8.53e-38</td>\n",
       "</tr>\n",
       "<tr>\n",
       "  <th>Kurtosis:</th>      <td> 7.198</td> <th>  Cond. No.          </th> <td>    108.</td>\n",
       "</tr>\n",
       "</table>"
      ],
      "text/plain": [
       "<class 'statsmodels.iolib.summary.Summary'>\n",
       "\"\"\"\n",
       "                            OLS Regression Results                            \n",
       "==============================================================================\n",
       "Dep. Variable:          AVGADDIDEMAND   R-squared:                       0.380\n",
       "Model:                            OLS   Adj. R-squared:                  0.374\n",
       "Method:                 Least Squares   F-statistic:                     61.98\n",
       "Date:                Sun, 01 May 2016   Prob (F-statistic):           1.02e-21\n",
       "Time:                        16:35:31   Log-Likelihood:                -82.050\n",
       "No. Observations:                 205   AIC:                             170.1\n",
       "Df Residuals:                     202   BIC:                             180.1\n",
       "Df Model:                           2                                         \n",
       "Covariance Type:            nonrobust                                         \n",
       "===============================================================================\n",
       "                  coef    std err          t      P>|t|      [95.0% Conf. Int.]\n",
       "-------------------------------------------------------------------------------\n",
       "const          -2.1060      0.343     -6.132      0.000        -2.783    -1.429\n",
       "ADDIPRICE28    -0.0047      0.052     -0.092      0.927        -0.106     0.097\n",
       "AVGGASTRANS     0.5063      0.046     10.945      0.000         0.415     0.597\n",
       "==============================================================================\n",
       "Omnibus:                       43.849   Durbin-Watson:                   1.822\n",
       "Prob(Omnibus):                  0.000   Jarque-Bera (JB):              170.710\n",
       "Skew:                          -0.769   Prob(JB):                     8.53e-38\n",
       "Kurtosis:                       7.198   Cond. No.                         108.\n",
       "==============================================================================\n",
       "\n",
       "Warnings:\n",
       "[1] Standard Errors assume that the covariance matrix of the errors is correctly specified.\n",
       "\"\"\""
      ]
     },
     "execution_count": 8,
     "metadata": {},
     "output_type": "execute_result"
    }
   ],
   "source": [
    "sm.OLS(y,X).fit().summary()"
   ]
  },
  {
   "cell_type": "code",
   "execution_count": null,
   "metadata": {
    "collapsed": true
   },
   "outputs": [],
   "source": []
  }
 ],
 "metadata": {
  "kernelspec": {
   "display_name": "Python 2",
   "language": "python",
   "name": "python2"
  },
  "language_info": {
   "codemirror_mode": {
    "name": "ipython",
    "version": 2
   },
   "file_extension": ".py",
   "mimetype": "text/x-python",
   "name": "python",
   "nbconvert_exporter": "python",
   "pygments_lexer": "ipython2",
   "version": "2.7.11"
  }
 },
 "nbformat": 4,
 "nbformat_minor": 0
}
