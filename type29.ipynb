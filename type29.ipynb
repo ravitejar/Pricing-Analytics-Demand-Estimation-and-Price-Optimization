{
 "cells": [
  {
   "cell_type": "code",
   "execution_count": 1,
   "metadata": {
    "collapsed": true
   },
   "outputs": [],
   "source": [
    "    import pandas as pd\n",
    "    import numpy as np\n",
    "    from pandas import DataFrame,Series\n",
    "    %matplotlib inline\n",
    "    import matplotlib.pyplot as plt\n",
    "    import statsmodels.api as sm\n",
    "    import statsmodels.formula.api as smf\n",
    "    import seaborn as sns\n",
    "    from sklearn.cross_validation import train_test_split\n",
    "    from sklearn.metrics import r2_score\n",
    "    from scipy.optimize import curve_fit"
   ]
  },
  {
   "cell_type": "code",
   "execution_count": 2,
   "metadata": {
    "collapsed": false
   },
   "outputs": [
    {
     "name": "stdout",
     "output_type": "stream",
     "text": [
      " Volume in drive C is Windows8_OS\n",
      " Volume Serial Number is 5CA2-A60B\n",
      "\n",
      " Directory of C:\\Users\\raviteja\\Desktop\\MSBAPM\\Pricing Analytics\\nikitha files\\ALL_DATA\\ALL_DATA\n",
      "\n",
      "05/01/2016  04:36 PM    <DIR>          .\n",
      "05/01/2016  04:36 PM    <DIR>          ..\n",
      "05/01/2016  04:36 PM    <DIR>          .ipynb_checkpoints\n",
      "05/01/2016  02:43 PM            22,473 23_new.xlsx\n",
      "05/01/2016  02:25 PM            34,937 23_new_o.xlsx\n",
      "04/21/2016  04:33 PM            56,411 export.xlsx\n",
      "05/01/2016  04:05 PM           790,440 scatter.html\n",
      "04/27/2016  07:27 PM            48,574 type_22_All.xlsx\n",
      "04/27/2016  08:39 PM            41,058 type_23_All.xlsx\n",
      "04/30/2016  10:46 AM            63,025 type_24_all.xlsx\n",
      "04/27/2016  08:40 PM            44,441 type_25_All.xlsx\n",
      "04/27/2016  08:41 PM            67,476 type_26_All.xlsx\n",
      "04/27/2016  08:42 PM            19,318 type_27_All.xlsx\n",
      "04/27/2016  08:43 PM            11,982 type_28_All.xlsx\n",
      "04/27/2016  08:44 PM            12,234 type_29_All.xlsx\n",
      "04/27/2016  08:46 PM            54,589 type_6_All.xlsx\n",
      "05/01/2016  02:07 PM            40,763 type22.ipynb\n",
      "05/01/2016  04:05 PM           219,382 type23.ipynb\n",
      "05/01/2016  04:32 PM            15,087 type24.ipynb\n",
      "05/01/2016  04:31 PM             3,756 type25.ipynb\n",
      "05/01/2016  04:32 PM            10,016 type27.ipynb\n",
      "05/01/2016  04:35 PM            10,447 type28.ipynb\n",
      "05/01/2016  04:36 PM                72 type29.ipynb\n",
      "04/21/2016  04:45 PM            37,583 type7.xlsx\n",
      "              21 File(s)      1,604,064 bytes\n",
      "               3 Dir(s)  399,822,987,264 bytes free\n"
     ]
    }
   ],
   "source": [
    "%ls"
   ]
  },
  {
   "cell_type": "code",
   "execution_count": 3,
   "metadata": {
    "collapsed": true
   },
   "outputs": [],
   "source": [
    "type29=pd.read_excel('type_29_All.xlsx')"
   ]
  },
  {
   "cell_type": "code",
   "execution_count": 4,
   "metadata": {
    "collapsed": false
   },
   "outputs": [
    {
     "data": {
      "text/plain": [
       "6.9900     195\n",
       "8.5900       1\n",
       "9.3780       1\n",
       "10.1740      1\n",
       "10.9900      1\n",
       "14.9900      1\n",
       "12.3233      1\n",
       "10.9700      1\n",
       "7.9900       1\n",
       "9.6433       1\n",
       "9.6566       1\n",
       "11.7900      1\n",
       "8.3166       1\n",
       "14.9500      1\n",
       "8.9800       1\n",
       "8.5820       1\n",
       "8.3233       1\n",
       "12.2966      1\n",
       "8.9900       1\n",
       "8.1271       1\n",
       "Name: ADDIPRICE29, dtype: int64"
      ]
     },
     "execution_count": 4,
     "metadata": {},
     "output_type": "execute_result"
    }
   ],
   "source": [
    "type29.ADDIPRICE29.value_counts()"
   ]
  },
  {
   "cell_type": "code",
   "execution_count": null,
   "metadata": {
    "collapsed": true
   },
   "outputs": [],
   "source": []
  }
 ],
 "metadata": {
  "kernelspec": {
   "display_name": "Python 2",
   "language": "python",
   "name": "python2"
  },
  "language_info": {
   "codemirror_mode": {
    "name": "ipython",
    "version": 2
   },
   "file_extension": ".py",
   "mimetype": "text/x-python",
   "name": "python",
   "nbconvert_exporter": "python",
   "pygments_lexer": "ipython2",
   "version": "2.7.11"
  }
 },
 "nbformat": 4,
 "nbformat_minor": 0
}
