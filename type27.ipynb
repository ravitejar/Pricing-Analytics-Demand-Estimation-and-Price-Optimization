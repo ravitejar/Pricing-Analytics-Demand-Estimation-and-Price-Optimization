{
 "cells": [
  {
   "cell_type": "code",
   "execution_count": 1,
   "metadata": {
    "collapsed": true
   },
   "outputs": [],
   "source": [
    "    import pandas as pd\n",
    "    import numpy as np\n",
    "    from pandas import DataFrame,Series\n",
    "    %matplotlib inline\n",
    "    import matplotlib.pyplot as plt\n",
    "    import statsmodels.api as sm\n",
    "    import statsmodels.formula.api as smf\n",
    "    import seaborn as sns\n",
    "    from sklearn.cross_validation import train_test_split\n",
    "    from sklearn.metrics import r2_score\n",
    "    from scipy.optimize import curve_fit"
   ]
  },
  {
   "cell_type": "code",
   "execution_count": 2,
   "metadata": {
    "collapsed": false
   },
   "outputs": [
    {
     "name": "stdout",
     "output_type": "stream",
     "text": [
      " Volume in drive C is Windows8_OS\n",
      " Volume Serial Number is 5CA2-A60B\n",
      "\n",
      " Directory of C:\\Users\\raviteja\\Desktop\\MSBAPM\\Pricing Analytics\\nikitha files\\ALL_DATA\\ALL_DATA\n",
      "\n",
      "05/01/2016  04:31 PM    <DIR>          .\n",
      "05/01/2016  04:31 PM    <DIR>          ..\n",
      "05/01/2016  04:31 PM    <DIR>          .ipynb_checkpoints\n",
      "05/01/2016  02:43 PM            22,473 23_new.xlsx\n",
      "05/01/2016  02:25 PM            34,937 23_new_o.xlsx\n",
      "04/21/2016  04:33 PM            56,411 export.xlsx\n",
      "05/01/2016  04:05 PM           790,440 scatter.html\n",
      "04/27/2016  07:27 PM            48,574 type_22_All.xlsx\n",
      "04/27/2016  08:39 PM            41,058 type_23_All.xlsx\n",
      "04/30/2016  10:46 AM            63,025 type_24_all.xlsx\n",
      "04/27/2016  08:40 PM            44,441 type_25_All.xlsx\n",
      "04/27/2016  08:41 PM            67,476 type_26_All.xlsx\n",
      "04/27/2016  08:42 PM            19,318 type_27_All.xlsx\n",
      "04/27/2016  08:43 PM            11,982 type_28_All.xlsx\n",
      "04/27/2016  08:44 PM            12,234 type_29_All.xlsx\n",
      "04/27/2016  08:46 PM            54,589 type_6_All.xlsx\n",
      "05/01/2016  02:07 PM            40,763 type22.ipynb\n",
      "05/01/2016  04:05 PM           219,382 type23.ipynb\n",
      "05/01/2016  04:18 PM            15,043 type24.ipynb\n",
      "05/01/2016  04:31 PM             3,756 type25.ipynb\n",
      "04/21/2016  04:45 PM            37,583 type7.xlsx\n",
      "05/01/2016  04:31 PM                72 Untitled.ipynb\n",
      "              19 File(s)      1,583,557 bytes\n",
      "               3 Dir(s)  399,822,094,336 bytes free\n"
     ]
    }
   ],
   "source": [
    "%ls"
   ]
  },
  {
   "cell_type": "code",
   "execution_count": 3,
   "metadata": {
    "collapsed": true
   },
   "outputs": [],
   "source": [
    "type27=pd.read_excel('type_27_All.xlsx')"
   ]
  },
  {
   "cell_type": "code",
   "execution_count": 4,
   "metadata": {
    "collapsed": false
   },
   "outputs": [
    {
     "data": {
      "text/plain": [
       "2.99    304\n",
       "4.49      4\n",
       "6.99      1\n",
       "Name: ADDIPRICE27, dtype: int64"
      ]
     },
     "execution_count": 4,
     "metadata": {},
     "output_type": "execute_result"
    }
   ],
   "source": [
    "type27.ADDIPRICE27.value_counts()"
   ]
  },
  {
   "cell_type": "code",
   "execution_count": 5,
   "metadata": {
    "collapsed": true
   },
   "outputs": [],
   "source": [
    "X=type27.drop(['SITE','AVGGASPRICE',u'AVGADDIDEMAND'],axis=1)\n",
    "y=np.log(type27.AVGADDIDEMAND)\n",
    "#y=1/type23.AVGADDIDEMAND"
   ]
  },
  {
   "cell_type": "code",
   "execution_count": 6,
   "metadata": {
    "collapsed": true
   },
   "outputs": [],
   "source": [
    "X[u'AVGGASTRANS']=np.log(X[u'AVGGASTRANS'])"
   ]
  },
  {
   "cell_type": "code",
   "execution_count": 7,
   "metadata": {
    "collapsed": true
   },
   "outputs": [],
   "source": [
    "X=sm.add_constant(X)"
   ]
  },
  {
   "cell_type": "code",
   "execution_count": 8,
   "metadata": {
    "collapsed": false
   },
   "outputs": [
    {
     "data": {
      "text/html": [
       "<table class=\"simpletable\">\n",
       "<caption>OLS Regression Results</caption>\n",
       "<tr>\n",
       "  <th>Dep. Variable:</th>      <td>AVGADDIDEMAND</td>  <th>  R-squared:         </th> <td>   0.280</td>\n",
       "</tr>\n",
       "<tr>\n",
       "  <th>Model:</th>                   <td>OLS</td>       <th>  Adj. R-squared:    </th> <td>   0.275</td>\n",
       "</tr>\n",
       "<tr>\n",
       "  <th>Method:</th>             <td>Least Squares</td>  <th>  F-statistic:       </th> <td>   59.55</td>\n",
       "</tr>\n",
       "<tr>\n",
       "  <th>Date:</th>             <td>Sun, 01 May 2016</td> <th>  Prob (F-statistic):</th> <td>1.43e-22</td>\n",
       "</tr>\n",
       "<tr>\n",
       "  <th>Time:</th>                 <td>16:32:54</td>     <th>  Log-Likelihood:    </th> <td> -215.63</td>\n",
       "</tr>\n",
       "<tr>\n",
       "  <th>No. Observations:</th>      <td>   309</td>      <th>  AIC:               </th> <td>   437.3</td>\n",
       "</tr>\n",
       "<tr>\n",
       "  <th>Df Residuals:</th>          <td>   306</td>      <th>  BIC:               </th> <td>   448.5</td>\n",
       "</tr>\n",
       "<tr>\n",
       "  <th>Df Model:</th>              <td>     2</td>      <th>                     </th>     <td> </td>   \n",
       "</tr>\n",
       "<tr>\n",
       "  <th>Covariance Type:</th>      <td>nonrobust</td>    <th>                     </th>     <td> </td>   \n",
       "</tr>\n",
       "</table>\n",
       "<table class=\"simpletable\">\n",
       "<tr>\n",
       "       <td></td>          <th>coef</th>     <th>std err</th>      <th>t</th>      <th>P>|t|</th> <th>[95.0% Conf. Int.]</th> \n",
       "</tr>\n",
       "<tr>\n",
       "  <th>const</th>       <td>   -1.8177</td> <td>    0.479</td> <td>   -3.792</td> <td> 0.000</td> <td>   -2.761    -0.874</td>\n",
       "</tr>\n",
       "<tr>\n",
       "  <th>ADDIPRICE27</th> <td>   -0.3126</td> <td>    0.098</td> <td>   -3.178</td> <td> 0.002</td> <td>   -0.506    -0.119</td>\n",
       "</tr>\n",
       "<tr>\n",
       "  <th>AVGGASTRANS</th> <td>    0.6359</td> <td>    0.061</td> <td>   10.468</td> <td> 0.000</td> <td>    0.516     0.755</td>\n",
       "</tr>\n",
       "</table>\n",
       "<table class=\"simpletable\">\n",
       "<tr>\n",
       "  <th>Omnibus:</th>       <td> 0.055</td> <th>  Durbin-Watson:     </th> <td>   1.283</td>\n",
       "</tr>\n",
       "<tr>\n",
       "  <th>Prob(Omnibus):</th> <td> 0.973</td> <th>  Jarque-Bera (JB):  </th> <td>   0.067</td>\n",
       "</tr>\n",
       "<tr>\n",
       "  <th>Skew:</th>          <td>-0.031</td> <th>  Prob(JB):          </th> <td>   0.967</td>\n",
       "</tr>\n",
       "<tr>\n",
       "  <th>Kurtosis:</th>      <td> 2.963</td> <th>  Cond. No.          </th> <td>    122.</td>\n",
       "</tr>\n",
       "</table>"
      ],
      "text/plain": [
       "<class 'statsmodels.iolib.summary.Summary'>\n",
       "\"\"\"\n",
       "                            OLS Regression Results                            \n",
       "==============================================================================\n",
       "Dep. Variable:          AVGADDIDEMAND   R-squared:                       0.280\n",
       "Model:                            OLS   Adj. R-squared:                  0.275\n",
       "Method:                 Least Squares   F-statistic:                     59.55\n",
       "Date:                Sun, 01 May 2016   Prob (F-statistic):           1.43e-22\n",
       "Time:                        16:32:54   Log-Likelihood:                -215.63\n",
       "No. Observations:                 309   AIC:                             437.3\n",
       "Df Residuals:                     306   BIC:                             448.5\n",
       "Df Model:                           2                                         \n",
       "Covariance Type:            nonrobust                                         \n",
       "===============================================================================\n",
       "                  coef    std err          t      P>|t|      [95.0% Conf. Int.]\n",
       "-------------------------------------------------------------------------------\n",
       "const          -1.8177      0.479     -3.792      0.000        -2.761    -0.874\n",
       "ADDIPRICE27    -0.3126      0.098     -3.178      0.002        -0.506    -0.119\n",
       "AVGGASTRANS     0.6359      0.061     10.468      0.000         0.516     0.755\n",
       "==============================================================================\n",
       "Omnibus:                        0.055   Durbin-Watson:                   1.283\n",
       "Prob(Omnibus):                  0.973   Jarque-Bera (JB):                0.067\n",
       "Skew:                          -0.031   Prob(JB):                        0.967\n",
       "Kurtosis:                       2.963   Cond. No.                         122.\n",
       "==============================================================================\n",
       "\n",
       "Warnings:\n",
       "[1] Standard Errors assume that the covariance matrix of the errors is correctly specified.\n",
       "\"\"\""
      ]
     },
     "execution_count": 8,
     "metadata": {},
     "output_type": "execute_result"
    }
   ],
   "source": [
    "sm.OLS(y,X).fit().summary()"
   ]
  },
  {
   "cell_type": "code",
   "execution_count": null,
   "metadata": {
    "collapsed": true
   },
   "outputs": [],
   "source": []
  }
 ],
 "metadata": {
  "kernelspec": {
   "display_name": "Python 2",
   "language": "python",
   "name": "python2"
  },
  "language_info": {
   "codemirror_mode": {
    "name": "ipython",
    "version": 2
   },
   "file_extension": ".py",
   "mimetype": "text/x-python",
   "name": "python",
   "nbconvert_exporter": "python",
   "pygments_lexer": "ipython2",
   "version": "2.7.11"
  }
 },
 "nbformat": 4,
 "nbformat_minor": 0
}
