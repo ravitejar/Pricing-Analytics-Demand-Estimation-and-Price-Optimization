{
 "cells": [
  {
   "cell_type": "code",
   "execution_count": 15,
   "metadata": {
    "collapsed": true
   },
   "outputs": [],
   "source": [
    "import pandas as pd\n",
    "import numpy as np\n",
    "from pandas import DataFrame,Series\n",
    "%matplotlib inline\n",
    "import matplotlib.pyplot as plt\n",
    "import statsmodels.api as sm\n",
    "import statsmodels.formula.api as smf\n",
    "import seaborn as sns\n",
    "from sklearn.cross_validation import train_test_split\n",
    "from sklearn.metrics import r2_score\n",
    "from scipy.optimize import curve_fit"
   ]
  },
  {
   "cell_type": "code",
   "execution_count": 16,
   "metadata": {
    "collapsed": false
   },
   "outputs": [
    {
     "name": "stdout",
     "output_type": "stream",
     "text": [
      " Volume in drive C is Windows8_OS\n",
      " Volume Serial Number is 5CA2-A60B\n",
      "\n",
      " Directory of C:\\Users\\raviteja\\Desktop\\MSBAPM\\Pricing Analytics\\nikitha files\\ALL_DATA\\ALL_DATA\n",
      "\n",
      "05/09/2016  02:34 PM    <DIR>          .\n",
      "05/09/2016  02:34 PM    <DIR>          ..\n",
      "05/01/2016  04:36 PM    <DIR>          .ipynb_checkpoints\n",
      "05/01/2016  02:43 PM            22,473 23_new.xlsx\n",
      "05/01/2016  02:25 PM            34,937 23_new_o.xlsx\n",
      "04/21/2016  04:33 PM            56,411 export.xlsx\n",
      "05/05/2016  03:12 PM           455,758 scatter.html\n",
      "04/27/2016  07:27 PM            48,574 type_22_All.xlsx\n",
      "04/27/2016  08:39 PM            41,058 type_23_All.xlsx\n",
      "04/30/2016  10:46 AM            63,025 type_24_all.xlsx\n",
      "04/27/2016  08:40 PM            44,441 type_25_All.xlsx\n",
      "04/27/2016  08:41 PM            67,476 type_26_All.xlsx\n",
      "04/27/2016  08:42 PM            19,318 type_27_All.xlsx\n",
      "04/27/2016  08:43 PM            11,982 type_28_All.xlsx\n",
      "04/27/2016  08:44 PM            12,234 type_29_All.xlsx\n",
      "04/27/2016  08:46 PM            54,589 type_6_All.xlsx\n",
      "05/05/2016  04:54 PM            39,571 type22.ipynb\n",
      "05/05/2016  04:54 PM           259,032 type23.ipynb\n",
      "05/05/2016  04:54 PM            15,940 type24.ipynb\n",
      "05/01/2016  04:31 PM             3,756 type25.ipynb\n",
      "05/01/2016  04:32 PM            10,016 type27.ipynb\n",
      "05/01/2016  04:35 PM            10,447 type28.ipynb\n",
      "05/01/2016  04:38 PM             4,433 type29.ipynb\n",
      "04/21/2016  04:45 PM            37,583 type7.xlsx\n",
      "              21 File(s)      1,313,054 bytes\n",
      "               3 Dir(s)  388,172,673,024 bytes free\n"
     ]
    }
   ],
   "source": [
    "%ls"
   ]
  },
  {
   "cell_type": "code",
   "execution_count": 17,
   "metadata": {
    "collapsed": true
   },
   "outputs": [],
   "source": [
    "type22=pd.read_excel('type_22_All.xlsx')"
   ]
  },
  {
   "cell_type": "code",
   "execution_count": 18,
   "metadata": {
    "collapsed": false
   },
   "outputs": [
    {
     "data": {
      "text/plain": [
       "2.9900    534\n",
       "4.9900    307\n",
       "3.9900     27\n",
       "1.9900     16\n",
       "5.9900     15\n",
       "3.4900      1\n",
       "3.3900      1\n",
       "3.2757      1\n",
       "3.6566      1\n",
       "3.2400      1\n",
       "4.3233      1\n",
       "4.4900      1\n",
       "Name: ADDIPRICE22, dtype: int64"
      ]
     },
     "execution_count": 18,
     "metadata": {},
     "output_type": "execute_result"
    }
   ],
   "source": [
    "type22.ADDIPRICE22.value_counts()"
   ]
  },
  {
   "cell_type": "code",
   "execution_count": 19,
   "metadata": {
    "collapsed": false
   },
   "outputs": [],
   "source": [
    "type22=type22[(type22['ADDIPRICE22']!=3.4900) & (type22['ADDIPRICE22']!=3.3900) & (type22['ADDIPRICE22']!=3.2757) & (type22['ADDIPRICE22']!=3.6566) \n",
    "& (type22['ADDIPRICE22']!=3.2400) & (type22['ADDIPRICE22']!=4.3233) & (type22['ADDIPRICE22']!=4.4900)]"
   ]
  },
  {
   "cell_type": "code",
   "execution_count": 20,
   "metadata": {
    "collapsed": false
   },
   "outputs": [
    {
     "data": {
      "text/plain": [
       "2.99    534\n",
       "4.99    307\n",
       "3.99     27\n",
       "1.99     16\n",
       "5.99     15\n",
       "Name: ADDIPRICE22, dtype: int64"
      ]
     },
     "execution_count": 20,
     "metadata": {},
     "output_type": "execute_result"
    }
   ],
   "source": [
    "type22.ADDIPRICE22.value_counts()"
   ]
  },
  {
   "cell_type": "code",
   "execution_count": 21,
   "metadata": {
    "collapsed": true
   },
   "outputs": [],
   "source": [
    "#type22['ADDIPRICE22_2']=type22['ADDIPRICE22']*type22['ADDIPRICE22']"
   ]
  },
  {
   "cell_type": "code",
   "execution_count": 22,
   "metadata": {
    "collapsed": false
   },
   "outputs": [],
   "source": [
    "#type22['AVGGASTRANS_2']=type22['AVGGASTRANS']*type22['AVGGASTRANS']"
   ]
  },
  {
   "cell_type": "code",
   "execution_count": 23,
   "metadata": {
    "collapsed": false
   },
   "outputs": [],
   "source": [
    "X=type22.drop(['SITE','AVGGASPRICE',u'AVGADDIDEMAND'],axis=1)\n",
    "y=np.log(type22.AVGADDIDEMAND)\n",
    "#y=1/type22.AVGADDIDEMAND"
   ]
  },
  {
   "cell_type": "code",
   "execution_count": 24,
   "metadata": {
    "collapsed": true
   },
   "outputs": [],
   "source": [
    "X[u'AVGGASTRANS']=np.log(X[u'AVGGASTRANS'])"
   ]
  },
  {
   "cell_type": "code",
   "execution_count": 25,
   "metadata": {
    "collapsed": false
   },
   "outputs": [],
   "source": [
    "#X[u'AVGGASTRANS']=np.log(X[u'AVGGASTRANS_2'])"
   ]
  },
  {
   "cell_type": "code",
   "execution_count": 26,
   "metadata": {
    "collapsed": false
   },
   "outputs": [],
   "source": [
    "#X['AVGGASPRICE']=1/(X['AVGGASPRICE'])"
   ]
  },
  {
   "cell_type": "code",
   "execution_count": 27,
   "metadata": {
    "collapsed": true
   },
   "outputs": [],
   "source": [
    "X=sm.add_constant(X)"
   ]
  },
  {
   "cell_type": "code",
   "execution_count": 28,
   "metadata": {
    "collapsed": false
   },
   "outputs": [
    {
     "data": {
      "text/html": [
       "<table class=\"simpletable\">\n",
       "<caption>OLS Regression Results</caption>\n",
       "<tr>\n",
       "  <th>Dep. Variable:</th>      <td>AVGADDIDEMAND</td>  <th>  R-squared:         </th> <td>   0.643</td> \n",
       "</tr>\n",
       "<tr>\n",
       "  <th>Model:</th>                   <td>OLS</td>       <th>  Adj. R-squared:    </th> <td>   0.642</td> \n",
       "</tr>\n",
       "<tr>\n",
       "  <th>Method:</th>             <td>Least Squares</td>  <th>  F-statistic:       </th> <td>   805.5</td> \n",
       "</tr>\n",
       "<tr>\n",
       "  <th>Date:</th>             <td>Sun, 22 May 2016</td> <th>  Prob (F-statistic):</th> <td>6.56e-201</td>\n",
       "</tr>\n",
       "<tr>\n",
       "  <th>Time:</th>                 <td>10:11:44</td>     <th>  Log-Likelihood:    </th> <td> -58.202</td> \n",
       "</tr>\n",
       "<tr>\n",
       "  <th>No. Observations:</th>      <td>   899</td>      <th>  AIC:               </th> <td>   122.4</td> \n",
       "</tr>\n",
       "<tr>\n",
       "  <th>Df Residuals:</th>          <td>   896</td>      <th>  BIC:               </th> <td>   136.8</td> \n",
       "</tr>\n",
       "<tr>\n",
       "  <th>Df Model:</th>              <td>     2</td>      <th>                     </th>     <td> </td>    \n",
       "</tr>\n",
       "<tr>\n",
       "  <th>Covariance Type:</th>      <td>nonrobust</td>    <th>                     </th>     <td> </td>    \n",
       "</tr>\n",
       "</table>\n",
       "<table class=\"simpletable\">\n",
       "<tr>\n",
       "       <td></td>          <th>coef</th>     <th>std err</th>      <th>t</th>      <th>P>|t|</th> <th>[95.0% Conf. Int.]</th> \n",
       "</tr>\n",
       "<tr>\n",
       "  <th>const</th>       <td>   -2.2437</td> <td>    0.113</td> <td>  -19.915</td> <td> 0.000</td> <td>   -2.465    -2.023</td>\n",
       "</tr>\n",
       "<tr>\n",
       "  <th>ADDIPRICE22</th> <td>   -0.1982</td> <td>    0.009</td> <td>  -22.675</td> <td> 0.000</td> <td>   -0.215    -0.181</td>\n",
       "</tr>\n",
       "<tr>\n",
       "  <th>AVGGASTRANS</th> <td>    0.6834</td> <td>    0.019</td> <td>   36.780</td> <td> 0.000</td> <td>    0.647     0.720</td>\n",
       "</tr>\n",
       "</table>\n",
       "<table class=\"simpletable\">\n",
       "<tr>\n",
       "  <th>Omnibus:</th>       <td>64.704</td> <th>  Durbin-Watson:     </th> <td>   1.523</td>\n",
       "</tr>\n",
       "<tr>\n",
       "  <th>Prob(Omnibus):</th> <td> 0.000</td> <th>  Jarque-Bera (JB):  </th> <td> 121.716</td>\n",
       "</tr>\n",
       "<tr>\n",
       "  <th>Skew:</th>          <td> 0.481</td> <th>  Prob(JB):          </th> <td>3.71e-27</td>\n",
       "</tr>\n",
       "<tr>\n",
       "  <th>Kurtosis:</th>      <td> 4.525</td> <th>  Cond. No.          </th> <td>    96.3</td>\n",
       "</tr>\n",
       "</table>"
      ],
      "text/plain": [
       "<class 'statsmodels.iolib.summary.Summary'>\n",
       "\"\"\"\n",
       "                            OLS Regression Results                            \n",
       "==============================================================================\n",
       "Dep. Variable:          AVGADDIDEMAND   R-squared:                       0.643\n",
       "Model:                            OLS   Adj. R-squared:                  0.642\n",
       "Method:                 Least Squares   F-statistic:                     805.5\n",
       "Date:                Sun, 22 May 2016   Prob (F-statistic):          6.56e-201\n",
       "Time:                        10:11:44   Log-Likelihood:                -58.202\n",
       "No. Observations:                 899   AIC:                             122.4\n",
       "Df Residuals:                     896   BIC:                             136.8\n",
       "Df Model:                           2                                         \n",
       "Covariance Type:            nonrobust                                         \n",
       "===============================================================================\n",
       "                  coef    std err          t      P>|t|      [95.0% Conf. Int.]\n",
       "-------------------------------------------------------------------------------\n",
       "const          -2.2437      0.113    -19.915      0.000        -2.465    -2.023\n",
       "ADDIPRICE22    -0.1982      0.009    -22.675      0.000        -0.215    -0.181\n",
       "AVGGASTRANS     0.6834      0.019     36.780      0.000         0.647     0.720\n",
       "==============================================================================\n",
       "Omnibus:                       64.704   Durbin-Watson:                   1.523\n",
       "Prob(Omnibus):                  0.000   Jarque-Bera (JB):              121.716\n",
       "Skew:                           0.481   Prob(JB):                     3.71e-27\n",
       "Kurtosis:                       4.525   Cond. No.                         96.3\n",
       "==============================================================================\n",
       "\n",
       "Warnings:\n",
       "[1] Standard Errors assume that the covariance matrix of the errors is correctly specified.\n",
       "\"\"\""
      ]
     },
     "execution_count": 28,
     "metadata": {},
     "output_type": "execute_result"
    }
   ],
   "source": [
    "sm.OLS(y,X).fit().summary()"
   ]
  },
  {
   "cell_type": "code",
   "execution_count": 29,
   "metadata": {
    "collapsed": true
   },
   "outputs": [],
   "source": [
    "x1=np.linspace(1,10,10)\n",
    "y1=x1.copy()\n",
    "#y1=-0.5330283*x1\n",
    "\n",
    "from bokeh.charts import output_file\n",
    "from bokeh.plotting import figure, output_notebook, show\n",
    "p = figure(plot_width=500, plot_height=500)\n",
    "p.ygrid[0].ticker.desired_num_ticks = 15\n",
    "p.xgrid[0].ticker.desired_num_ticks = 15\n",
    "p.scatter(np.exp(y), np.exp(sm.OLS(y,X).fit().predict(X)), size=4, color=\"navy\", alpha=0.5)\n",
    "p.line(x1, y1, color=\"red\", alpha=0.5)\n",
    "p.xaxis.axis_label = \"Actual Demand\"\n",
    "p.yaxis.axis_label = \"Predicted Demand\"\n",
    "#p.title=\"ACTUAL vs PREDICTED\"\n",
    "output_file(\"scatter.html\")\n",
    "show(p)\n",
    "#print popt[0],popt[1]"
   ]
  },
  {
   "cell_type": "code",
   "execution_count": 151,
   "metadata": {
    "collapsed": false
   },
   "outputs": [],
   "source": [
    "\n",
    "x1=np.linspace(-1,3,10)\n",
    "y1=np.linspace(0,0,10)\n",
    "#y1=-0.5330283*x1\n",
    "\n",
    "from bokeh.charts import output_file\n",
    "from bokeh.plotting import figure, output_notebook, show\n",
    "p = figure(plot_width=500, plot_height=500)\n",
    "p.ygrid[0].ticker.desired_num_ticks = 15\n",
    "p.xgrid[0].ticker.desired_num_ticks = 15\n",
    "p.scatter(sm.OLS(y,X).fit().predict(X),y-sm.OLS(y,X).fit().predict(X), size=4, color=\"navy\", alpha=0.5)\n",
    "p.line(x1, y1, color=\"red\", alpha=0.5)\n",
    "p.xaxis.axis_label = \"Predicted\"\n",
    "p.yaxis.axis_label = \"Residuals\"\n",
    "#p.title=\"ACTUAL vs PREDICTED\"\n",
    "output_file(\"scatter.html\")\n",
    "show(p)\n",
    "#print popt[0],popt[1]"
   ]
  },
  {
   "cell_type": "code",
   "execution_count": 98,
   "metadata": {
    "collapsed": false
   },
   "outputs": [
    {
     "data": {
      "image/png": "[encoded data removed]",
      "text/plain": [
       "<matplotlib.figure.Figure at 0xd0f2ac8>"
      ]
     },
     "metadata": {},
     "output_type": "display_data"
    }
   ],
   "source": [
    "res = sm.OLS(y,X).fit().resid # residuals\n",
    "fig = sm.qqplot(res)\n",
    "plt.show()"
   ]
  },
  {
   "cell_type": "code",
   "execution_count": 99,
   "metadata": {
    "collapsed": false
   },
   "outputs": [
    {
     "data": {
      "image/png": "[encoded data removed]",
      "text/plain": [
       "<matplotlib.figure.Figure at 0xd284ba8>"
      ]
     },
     "metadata": {},
     "output_type": "display_data"
    }
   ],
   "source": [
    "import scipy.stats as stats\n",
    "fig = sm.qqplot(res, stats.t, fit=True, line='45')\n",
    "plt.show()"
   ]
  },
  {
   "cell_type": "code",
   "execution_count": 170,
   "metadata": {
    "collapsed": true
   },
   "outputs": [],
   "source": [
    "def rmse(predictions, targets):\n",
    "    return np.sqrt(((predictions - targets) ** 2).mean())"
   ]
  },
  {
   "cell_type": "code",
   "execution_count": 171,
   "metadata": {
    "collapsed": false
   },
   "outputs": [
    {
     "data": {
      "text/plain": [
       "0.25958046937289925"
      ]
     },
     "execution_count": 171,
     "metadata": {},
     "output_type": "execute_result"
    }
   ],
   "source": [
    "rmse(sm.OLS(y,X).fit().predict(X),y)"
   ]
  },
  {
   "cell_type": "code",
   "execution_count": null,
   "metadata": {
    "collapsed": true
   },
   "outputs": [],
   "source": []
  }
 ],
 "metadata": {
  "kernelspec": {
   "display_name": "Python 2",
   "language": "python",
   "name": "python2"
  },
  "language_info": {
   "codemirror_mode": {
    "name": "ipython",
    "version": 2
   },
   "file_extension": ".py",
   "mimetype": "text/x-python",
   "name": "python",
   "nbconvert_exporter": "python",
   "pygments_lexer": "ipython2",
   "version": "2.7.11"
  }
 },
 "nbformat": 4,
 "nbformat_minor": 0
}
